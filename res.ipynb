{
 "cells": [
  {
   "cell_type": "code",
   "execution_count": 6,
   "metadata": {
    "collapsed": false
   },
   "outputs": [],
   "source": [
    "import os\n",
    "import youtube_dl\n",
    "import numpy as np\n",
    "import subprocess\n",
    "import urllib\n",
    "import urllib2\n",
    "from bs4 import BeautifulSoup\n",
    "import pyvtt\n",
    "import wave\n",
    "import indicoio\n",
    "import librosa\n",
    "\n",
    "indicoio.config.api_key = <your api key>"
   ]
  },
  {
   "cell_type": "code",
   "execution_count": 7,
   "metadata": {
    "collapsed": true
   },
   "outputs": [],
   "source": [
    "def download_video(url, name, language='en'):\n",
    "    \"\"\"Download soundtrack and subtitles. If there's no subtitles, raise error (better - raise it ASAP).\"\"\"\n",
    "    #\"source activate jupyterhub_py3 && \n",
    "    code = os.system(\"youtube-dl {0} --write-sub --sub-lang {1} --output {2}.mp4\".format(url, language, name))\n",
    "    assert code==0, \"Something wrong\"\n",
    "    if not os.path.exists(name+\".en.vtt\"):\n",
    "        os.system(\"rm -rf ./\"+name+\".mp4\")\n",
    "        raise ValueError(\"No subtitles!\")\n",
    "    \n",
    "    return name+\".mp4\", name+\".en.vtt\""
   ]
  },
  {
   "cell_type": "code",
   "execution_count": 8,
   "metadata": {
    "collapsed": true
   },
   "outputs": [],
   "source": [
    "def mp4_to_wav(name):\n",
    "    if not name.endswith(\".mp4\"): name+=\".mp4\"\n",
    "    os.system(\"avconv -i ./{0} -vn -f wav {1}.wav -ac 1\".format(name, name[:-4]))\n",
    "    os.system(\"rm -rf ./\"+name)\n",
    "    return \"{0}.wav\".format(name[:-4])"
   ]
  },
  {
   "cell_type": "code",
   "execution_count": 9,
   "metadata": {
    "collapsed": true
   },
   "outputs": [],
   "source": [
    "def auto_download(urls, language_of_subs=\"en\"):\n",
    "    sounds=[]\n",
    "    subs = []\n",
    "    for n, url in enumerate(urls):\n",
    "        name=\"video\"+str(n)\n",
    "        try:\n",
    "            name, sub = download_video(url, name, language_of_subs)\n",
    "        except:\n",
    "            print(\"Video \\\"{0}\\\" doesn`t have subtitle so it is missed\".format(name))\n",
    "        else:\n",
    "            sound_name = mp4_to_wav(name)\n",
    "            sounds.append(sound_name)\n",
    "            subs.append(sub)\n",
    "    return sounds, subs"
   ]
  },
  {
   "cell_type": "code",
   "execution_count": 10,
   "metadata": {
    "collapsed": true
   },
   "outputs": [],
   "source": [
    "def restore(mun_eatems):\n",
    "    sounds=[]\n",
    "    subs = []\n",
    "    for num in range(mun_eatems):\n",
    "        sound_name=\"video\"+str(num)+\".wav\"\n",
    "        sub_names=\"video\"+str(num)+\".en.vtt\"\n",
    "        sounds.append(sound_name)\n",
    "        subs.append(subs)\n",
    "    return sounds, subs"
   ]
  },
  {
   "cell_type": "code",
   "execution_count": 11,
   "metadata": {
    "collapsed": true
   },
   "outputs": [],
   "source": [
    "types = {\n",
    "    1: 'int8',\n",
    "    2: 'int16',\n",
    "    4: 'int32'\n",
    "}\n",
    "type_to_width = {t:w for w,t in types.items()}\n",
    "\n",
    "def slice_wav(wav_name, subt_name):\n",
    "    wav = wave.open(wav_name, mode=\"r\")\n",
    "    (nchannels, sampwidth, framerate, nframes, comptype, compname) = wav.getparams()\n",
    "    duration = float(nframes) / framerate\n",
    "\n",
    "\n",
    "    def time_to_frame_ix(time):\n",
    "        return int(round(time.ordinal/1000.*framerate))\n",
    "\n",
    "    def get_line_from_file(line):\n",
    "        wav.setpos(time_to_frame_ix(line.start))\n",
    "        raw_data = wav.readframes( (time_to_frame_ix(line.end) - time_to_frame_ix(line.start))*nchannels)\n",
    "        series = np.fromstring(raw_data, dtype=types[sampwidth]).reshape([-1,nchannels]).mean(-1).astype(types[sampwidth])\n",
    "        return series\n",
    "    \n",
    "    return [(get_line_from_file(line),line.text) for line in pyvtt.WebVTTFile.open(subt_name)], framerate"
   ]
  },
  {
   "cell_type": "code",
   "execution_count": 12,
   "metadata": {
    "collapsed": true
   },
   "outputs": [],
   "source": [
    "def make_url_list(chanel_url):\n",
    "    #query = urllib.quote(textToSearch)\n",
    "    #url = \"https://www.youtube.com/results?search_query=\" + 'Dogs'  #for search\n",
    "    response = urllib2.urlopen(chanel_url)\n",
    "    html = response.read()\n",
    "    soup = BeautifulSoup(html)\n",
    "    urls=['https://www.youtube.com' + vid['href'] for vid in soup.findAll(attrs={'class':'yt-uix-tile-link'})]\n",
    "    return urls"
   ]
  },
  {
   "cell_type": "code",
   "execution_count": 13,
   "metadata": {
    "collapsed": true
   },
   "outputs": [],
   "source": [
    "def get_sentiment(wav_name, subt_name):\n",
    "    pairs,fr = slice_wav(wav_name, subt_name)\n",
    "    sentiment = indicoio.sentiment([p[1] for p in pairs])\n",
    "    return sentiment"
   ]
  },
  {
   "cell_type": "code",
   "execution_count": 14,
   "metadata": {
    "collapsed": false
   },
   "outputs": [
    {
     "name": "stderr",
     "output_type": "stream",
     "text": [
      "<ipython-input-14-12ede8afe5e3>:12: SyntaxWarning: name 'norm_len' is assigned to before global declaration\n",
      "  global norm_len\n"
     ]
    }
   ],
   "source": [
    "norm_len = 1007\n",
    "\n",
    "def sound_normalization(wav_name, subt_name):\n",
    "    pairs, framerate = slice_wav(wav_name, subt_name)\n",
    "    sound = [librosa.logamplitude(librosa.feature.melspectrogram(p[0], sr=framerate, n_mels=128), ref_power=np.max)  for p in pairs]\n",
    "    lens = [wave.shape[1] for wave in sound]\n",
    "    if norm_len == 0:\n",
    "        norm_len = int(np.percentile(lens, q = 90))\n",
    "    \n",
    "    norm_sound = np.zeros([len(sound), 128, norm_len], dtype='float32')\n",
    "    \n",
    "    global norm_len\n",
    "    for i,s in enumerate(sound):\n",
    "        if s.shape[1]>=norm_len:\n",
    "            norm_sound[i, :, :]= np.array(s[:, :norm_len])\n",
    "        else:\n",
    "            #sound_wave = list(s)\n",
    "            #while len(sound_wave) < norm_len: sound_wave.append(0)\n",
    "            norm_sound[i, :, :s.shape[1]] = np.array(s)\n",
    "    return norm_sound"
   ]
  },
  {
   "cell_type": "code",
   "execution_count": 15,
   "metadata": {
    "collapsed": false
   },
   "outputs": [
    {
     "name": "stderr",
     "output_type": "stream",
     "text": [
      "/root/miniconda/envs/rep_py2/lib/python2.7/site-packages/bs4/__init__.py:181: UserWarning: No parser was explicitly specified, so I'm using the best available HTML parser for this system (\"html.parser\"). This usually isn't a problem, but if you run this code on another system, or in a different virtual environment, it may use a different parser and behave differently.\n",
      "\n",
      "The code that caused this warning is on line 162 of the file /root/miniconda/envs/rep_py2/lib/python2.7/runpy.py. To get rid of this warning, change code that looks like this:\n",
      "\n",
      " BeautifulSoup(YOUR_MARKUP})\n",
      "\n",
      "to this:\n",
      "\n",
      " BeautifulSoup(YOUR_MARKUP, \"html.parser\")\n",
      "\n",
      "  markup_type=markup_type))\n"
     ]
    }
   ],
   "source": [
    "sounds, subtitles = auto_download(make_url_list(\"https://www.youtube.com/user/CGPGrey/videos\"))"
   ]
  },
  {
   "cell_type": "code",
   "execution_count": 16,
   "metadata": {
    "collapsed": false
   },
   "outputs": [],
   "source": [
    "X = [np.array(sound_normalization(sounds[i], subtitles[i])) for i in range(len(sounds))]"
   ]
  },
  {
   "cell_type": "code",
   "execution_count": 17,
   "metadata": {
    "collapsed": false
   },
   "outputs": [],
   "source": [
    "#X = np.array(X)\n",
    "X = np.concatenate(X,axis=0).reshape(-1, 128*1007)"
   ]
  },
  {
   "cell_type": "code",
   "execution_count": 18,
   "metadata": {
    "collapsed": false
   },
   "outputs": [],
   "source": [
    "y = [get_sentiment(sounds[i], subtitles[i]) for i in range(len(sounds))]"
   ]
  },
  {
   "cell_type": "code",
   "execution_count": 19,
   "metadata": {
    "collapsed": true
   },
   "outputs": [],
   "source": [
    "k=[]\n",
    "[[k.append(j) for j in i] for i in y]\n",
    "y = np.array(k)"
   ]
  },
  {
   "cell_type": "code",
   "execution_count": null,
   "metadata": {
    "collapsed": false
   },
   "outputs": [
    {
     "data": {
      "text/plain": [
       "((2514, 128896), (2514,))"
      ]
     },
     "execution_count": 20,
     "metadata": {},
     "output_type": "execute_result"
    }
   ],
   "source": [
    "(X.shape, y.shape)"
   ]
  },
  {
   "cell_type": "code",
   "execution_count": null,
   "metadata": {
    "collapsed": true
   },
   "outputs": [],
   "source": [
    "import pickle\n",
    "with open(\"X_dump\", \"w\") as f:\n",
    "    pickle.dump(X, f)\n",
    "with open(\"y_dump\", \"w\") as f:\n",
    "    pickle.dump(y, f)"
   ]
  },
  {
   "cell_type": "code",
   "execution_count": null,
   "metadata": {
    "collapsed": true
   },
   "outputs": [],
   "source": []
  },
  {
   "cell_type": "code",
   "execution_count": null,
   "metadata": {
    "collapsed": true
   },
   "outputs": [],
   "source": [
    "import pickle\n",
    "X = pickle.load(open(\"X_dump\"))\n",
    "y = pickle.load(open(\"y_dump\"))"
   ]
  },
  {
   "cell_type": "code",
   "execution_count": null,
   "metadata": {
    "collapsed": true
   },
   "outputs": [],
   "source": [
    "import xgboost as xgb"
   ]
  },
  {
   "cell_type": "code",
   "execution_count": null,
   "metadata": {
    "collapsed": true
   },
   "outputs": [],
   "source": [
    "X_train, X_valid, y_train, y_valid = X[:2000], X[2000:], y[:2000], y[2000:]"
   ]
  },
  {
   "cell_type": "code",
   "execution_count": null,
   "metadata": {
    "collapsed": false
   },
   "outputs": [],
   "source": [
    "d_train = xgb.DMatrix(X_train, label=y_train)\n",
    "d_valid = xgb.DMatrix(X_valid, label=y_valid)"
   ]
  },
  {
   "cell_type": "code",
   "execution_count": null,
   "metadata": {
    "collapsed": false
   },
   "outputs": [],
   "source": [
    "params = {\"objective\":\"reg:logistic\", \"eval_metric\":\"logloss\", \"n_estimators\":10, \"max_depth\":3, \"eta\":0.02}\n",
    "watchlist = [(d_train, \"train\"), (d_valid, \"valid\")]\n",
    "model = xgb.train(params, d_train, 20, watchlist)"
   ]
  }
 ],
 "metadata": {
  "kernelspec": {
   "display_name": "Python 3",
   "language": "python",
   "name": "python3"
  },
  "language_info": {
   "codemirror_mode": {
    "name": "ipython",
    "version": 3
   },
   "file_extension": ".py",
   "mimetype": "text/x-python",
   "name": "python",
   "nbconvert_exporter": "python",
   "pygments_lexer": "ipython3",
   "version": "3.6.0"
  }
 },
 "nbformat": 4,
 "nbformat_minor": 0
}
